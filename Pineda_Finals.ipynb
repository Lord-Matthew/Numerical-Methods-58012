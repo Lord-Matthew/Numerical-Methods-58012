{
  "nbformat": 4,
  "nbformat_minor": 0,
  "metadata": {
    "colab": {
      "name": "Pineda_Finals.ipynb",
      "provenance": [],
      "authorship_tag": "ABX9TyO6C/TMwDBCXiV4K6eZZIn3",
      "include_colab_link": true
    },
    "kernelspec": {
      "name": "python3",
      "display_name": "Python 3"
    },
    "language_info": {
      "name": "python"
    }
  },
  "cells": [
    {
      "cell_type": "markdown",
      "metadata": {
        "id": "view-in-github",
        "colab_type": "text"
      },
      "source": [
        "<a href=\"https://colab.research.google.com/github/Lord-Matthew/Numerical-Methods-58012/blob/main/Pineda_Finals.ipynb\" target=\"_parent\"><img src=\"https://colab.research.google.com/assets/colab-badge.svg\" alt=\"Open In Colab\"/></a>"
      ]
    },
    {
      "cell_type": "code",
      "execution_count": 1,
      "metadata": {
        "colab": {
          "base_uri": "https://localhost:8080/"
        },
        "id": "RKI7VUu45Jvi",
        "outputId": "3d1001b7-05a3-4dda-c9c3-e0a280979490"
      },
      "outputs": [
        {
          "output_type": "stream",
          "name": "stdout",
          "text": [
            "Integral = 8.154845\n"
          ]
        }
      ],
      "source": [
        "from math import sin\n",
        "def f(x): return 2.718281828\n",
        "a=-1\n",
        "b=1\n",
        "n=2\n",
        "h= (b-a)/n\n",
        "S=h*(f(a)+f(b))\n",
        "for i in range(1,n):\n",
        "    S = S+f(a+i*h)\n",
        "Integral=h*S\n",
        "print('Integral = %f' %Integral)"
      ]
    }
  ]
}